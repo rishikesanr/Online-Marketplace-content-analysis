{
 "cells": [
  {
   "cell_type": "code",
   "execution_count": 55,
   "id": "21d5b31f-854f-44ce-86e6-0ad2f3ee90af",
   "metadata": {},
   "outputs": [],
   "source": [
    "import requests\n",
    "import json\n",
    "import time\n",
    "import pymongo\n",
    "from pymongo import MongoClient\n",
    "import re\n",
    "import numpy as np\n",
    "import pandas as pd"
   ]
  },
  {
   "cell_type": "markdown",
   "id": "45df2fe0-c730-4faa-82f0-9bdf1698d0dc",
   "metadata": {},
   "source": [
    "a) Started mongodb server locally, and ensured the instance is operational by checking through Studio 3T.\n"
   ]
  },
  {
   "cell_type": "markdown",
   "id": "fad41e0f-942a-4761-a5dd-d6f332e7b299",
   "metadata": {},
   "source": [
    "b) We'll now create a connection to our mongodb instance, create a database and insert a document."
   ]
  },
  {
   "cell_type": "code",
   "execution_count": 47,
   "id": "870a7ed7-b2fc-42d0-9273-62f27d4122d0",
   "metadata": {},
   "outputs": [
    {
     "name": "stdout",
     "output_type": "stream",
     "text": [
      "Sample status of our connection: Database(MongoClient(host=['localhost:27017'], document_class=dict, tz_aware=False, connect=True), 'local')\n",
      "{'_id': ObjectId('65f180e249d176f6dcd31426'), 'ip': '192.168.1.1', 'city': 'Davis', 'zip': '95616'}\n"
     ]
    }
   ],
   "source": [
    "def connect_mongo():\n",
    "    #Create a connection to the local mongodb server instance\n",
    "    client = MongoClient(\"localhost\", 27017)\n",
    "    \n",
    "    #Let us test the collection from our default database 'local'\n",
    "    status = client['local']\n",
    "    \n",
    "    return client, status \n",
    "\n",
    "def insert_document (client, name,collection,doc):\n",
    "    '''\n",
    "    Let us now insert this document into mongodb, as per documentation, only during this insertion the db will be created\n",
    "    if not already created. So if it is already created, it will get connect to the database again, and insert the document. But,\n",
    "    there is a chance it could be duplicated if ran multiple times with the same document (i.e in value sense, not _id).\n",
    "    '''\n",
    "    \n",
    "    db = client[name]\n",
    "    collection = db[collection]\n",
    "    doc_insert = collection.insert_one(doc)        \n",
    "\n",
    "client, status = connect_mongo()\n",
    "\n",
    "print(\"Sample status of our connection:\", status)\n",
    "\n",
    "#Document to be inserted \n",
    "doc = {\"ip\": \"192.168.1.1\", \"city\": \"Davis\", \"zip\": \"95616\"} \n",
    "db_name='msba'; collection = 'ip_addresses'\n",
    "\n",
    "#Let the create the databse and collection and insert the document \n",
    "insert_document(client,db_name,collection,doc) \n",
    "\n",
    "#Now print the documents inside this collection \n",
    "for doc in client[db_name][collection].find({}):\n",
    "    print(doc)"
   ]
  },
  {
   "cell_type": "markdown",
   "id": "d41eb43f-0a6b-4f83-89ed-420963d18760",
   "metadata": {},
   "source": [
    "Now we'll do the following,\n",
    "\n",
    "c) Explored IPStack website, and got the free API access key.\n",
    "\n",
    "d) First, we'll create the list of ip_addresses that we're interested in tracking their geo-location, this includes my personal ip address as well. \n",
    "\n",
    "e) We'll then send requests for each ip_address in the list for their details, and print all the information on the screen. While doing this, we'll also create a json object for each request and store them in an array. \n",
    "\n",
    "f) Now, we'll only print the zip and city for these ip addresses. \n",
    "\n",
    "g) We'll store these ip_addresses information in our original document format (ip, city, zip) into our collection "
   ]
  },
  {
   "cell_type": "code",
   "execution_count": 42,
   "id": "2916b547-5652-4108-bd50-eb0ef111c7dc",
   "metadata": {},
   "outputs": [
    {
     "name": "stdout",
     "output_type": "stream",
     "text": [
      "8.8.8.8 <Response [200]>\n",
      "128.120.0.25 <Response [200]>\n",
      "128.32.12.14 <Response [200]>\n",
      "64.165.72.144 <Response [200]>\n",
      "135.180.36.253 <Response [200]>\n"
     ]
    }
   ],
   "source": [
    "#Create the ip_address list \n",
    "ip_add = [\"8.8.8.8\",\"128.120.0.25\",\"128.32.12.14\",\"64.165.72.144\",\"135.180.36.253\"]\n",
    "\n",
    "ip_info=[]\n",
    "\n",
    "def get_info(ip):\n",
    "    #Send request to ipstack \n",
    "    url=f\"http://api.ipstack.com/{ip}?access_key=04c6c3ecefa7fb99fbbda7f726677819&output=json\"\n",
    "    time.sleep(5)\n",
    "    details = requests.get(url)\n",
    "    return details\n",
    "\n",
    "for ip in ip_add:\n",
    "    #This will print the status of the requests\n",
    "    info = get_info(ip)\n",
    "    print(ip,info)\n",
    "\n",
    "    #Let us also parse this response content into a json object \n",
    "    doc=json.loads(str(info.text))\n",
    "    ip_info.append(doc)"
   ]
  },
  {
   "cell_type": "code",
   "execution_count": 43,
   "id": "ae9ed634-3225-4598-bf56-5ae68e51dd90",
   "metadata": {},
   "outputs": [
    {
     "data": {
      "text/plain": [
       "{'ip': '8.8.8.8',\n",
       " 'type': 'ipv4',\n",
       " 'continent_code': 'NA',\n",
       " 'continent_name': 'North America',\n",
       " 'country_code': 'US',\n",
       " 'country_name': 'United States',\n",
       " 'region_code': 'OH',\n",
       " 'region_name': 'Ohio',\n",
       " 'city': 'Glenmont',\n",
       " 'zip': '44628',\n",
       " 'latitude': 40.5369987487793,\n",
       " 'longitude': -82.12859344482422,\n",
       " 'location': {'geoname_id': None,\n",
       "  'capital': 'Washington D.C.',\n",
       "  'languages': [{'code': 'en', 'name': 'English', 'native': 'English'}],\n",
       "  'country_flag': 'https://assets.ipstack.com/flags/us.svg',\n",
       "  'country_flag_emoji': '🇺🇸',\n",
       "  'country_flag_emoji_unicode': 'U+1F1FA U+1F1F8',\n",
       "  'calling_code': '1',\n",
       "  'is_eu': False}}"
      ]
     },
     "execution_count": 43,
     "metadata": {},
     "output_type": "execute_result"
    }
   ],
   "source": [
    "#Let us just casually check one documents content, just to see how it looks and what fields are fetched by default \n",
    "\n",
    "ip_info[0]"
   ]
  },
  {
   "cell_type": "code",
   "execution_count": 48,
   "id": "b938d8bc-418a-46c6-96f2-8297e71c2834",
   "metadata": {},
   "outputs": [
    {
     "name": "stdout",
     "output_type": "stream",
     "text": [
      "{'ip': '8.8.8.8', 'city': 'Glenmont', 'zip': '44628'}\n",
      "{'ip': '128.120.0.25', 'city': 'Davis', 'zip': '95616'}\n",
      "{'ip': '128.32.12.14', 'city': 'Berkeley', 'zip': '94705'}\n",
      "{'ip': '64.165.72.144', 'city': 'Florin', 'zip': '95819'}\n",
      "{'ip': '135.180.36.253', 'city': 'San Francisco', 'zip': '94118'}\n",
      "\n",
      "Docs in my MSBA db's ip_addresses collection:\n",
      "\n",
      "{'_id': ObjectId('65f180e249d176f6dcd31426'), 'ip': '192.168.1.1', 'city': 'Davis', 'zip': '95616'}\n",
      "{'_id': ObjectId('65f180e849d176f6dcd31427'), 'ip': '8.8.8.8', 'city': 'Glenmont', 'zip': '44628'}\n",
      "{'_id': ObjectId('65f180e849d176f6dcd31428'), 'ip': '128.120.0.25', 'city': 'Davis', 'zip': '95616'}\n",
      "{'_id': ObjectId('65f180e849d176f6dcd31429'), 'ip': '128.32.12.14', 'city': 'Berkeley', 'zip': '94705'}\n",
      "{'_id': ObjectId('65f180e849d176f6dcd3142a'), 'ip': '64.165.72.144', 'city': 'Florin', 'zip': '95819'}\n",
      "{'_id': ObjectId('65f180e849d176f6dcd3142b'), 'ip': '135.180.36.253', 'city': 'San Francisco', 'zip': '94118'}\n"
     ]
    }
   ],
   "source": [
    "#Now let us only print ip, zip, and city for all these 5 ips, and we'll also store that as an dic so we can insert that \n",
    "#document to our collection based using our function 'insert_document'\n",
    "\n",
    "for info in ip_info:\n",
    "    doc = {'ip':info['ip'],'city':info['city'],'zip':info['zip']}\n",
    "    print(doc)\n",
    "\n",
    "    #Let us insert this doc into our collection \n",
    "    insert_document(client,db_name,collection,doc)\n",
    "\n",
    "#Let us also verify the documents stored inside our db collection \n",
    "print(\"\\nDocs in my MSBA db's ip_addresses collection:\\n\")\n",
    "for doc in client[db_name][collection].find({}):\n",
    "    print(doc)"
   ]
  }
 ],
 "metadata": {
  "kernelspec": {
   "display_name": "Python [conda env:epl_analytics] *",
   "language": "python",
   "name": "conda-env-epl_analytics-py"
  },
  "language_info": {
   "codemirror_mode": {
    "name": "ipython",
    "version": 3
   },
   "file_extension": ".py",
   "mimetype": "text/x-python",
   "name": "python",
   "nbconvert_exporter": "python",
   "pygments_lexer": "ipython3",
   "version": "3.8.18"
  }
 },
 "nbformat": 4,
 "nbformat_minor": 5
}
